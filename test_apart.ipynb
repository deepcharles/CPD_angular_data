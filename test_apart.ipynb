{
 "cells": [
  {
   "cell_type": "code",
   "execution_count": 1,
   "id": "868bf530",
   "metadata": {},
   "outputs": [],
   "source": [
    "import numpy as np\n",
    "\n",
    "pi = np.pi\n",
    "np.random.seed(123)"
   ]
  },
  {
   "cell_type": "code",
   "execution_count": 2,
   "id": "5d1a75ad",
   "metadata": {},
   "outputs": [],
   "source": [
    "signal = np.array([1, 1, 1, 1, 1, 2, 2, 1, 2, 2])\n",
    "signal = signal.reshape((-1, 1))"
   ]
  },
  {
   "cell_type": "code",
   "execution_count": 3,
   "id": "08ae2a6d",
   "metadata": {},
   "outputs": [],
   "source": [
    "Theta = np.linspace(1, 4, 3, endpoint = False).reshape(-1, 1)"
   ]
  },
  {
   "cell_type": "code",
   "execution_count": 4,
   "id": "9b5a8929",
   "metadata": {},
   "outputs": [],
   "source": [
    "def d2(theta, psi):\n",
    "    diff = np.abs(psi - theta)\n",
    "    return np.sum(np.square(np.minimum(diff, 2*pi - diff)))"
   ]
  },
  {
   "cell_type": "code",
   "execution_count": 5,
   "id": "7667cfa9",
   "metadata": {},
   "outputs": [
    {
     "name": "stdout",
     "output_type": "stream",
     "text": [
      "[[0.  0.  0. ]\n",
      " [0.  1.  4. ]\n",
      " [0.  1.1 4.1]\n",
      " [0.  1.1 4.1]\n",
      " [0.  1.1 4.1]\n",
      " [0.  1.1 4.1]\n",
      " [1.  0.1 1.1]\n",
      " [1.2 0.1 1.2]\n",
      " [0.2 1.1 4.2]\n",
      " [1.2 0.3 1.3]\n",
      " [1.4 0.3 1.4]]\n",
      "[[-1 -1 -1]\n",
      " [ 0  1  2]\n",
      " [ 0  0  0]\n",
      " [ 0  0  0]\n",
      " [ 0  0  0]\n",
      " [ 0  0  0]\n",
      " [ 0  0  0]\n",
      " [ 1  1  1]\n",
      " [ 1  1  1]\n",
      " [ 0  0  0]\n",
      " [ 1  1  1]]\n",
      "[4 6 7]\n"
     ]
    }
   ],
   "source": [
    "def apart(y, Theta, lda):\n",
    "    T = y.shape[0]\n",
    "    M = Theta.shape[0]\n",
    "\n",
    "    V = np.zeros((T + 1, M))\n",
    "    s = -1 * np.ones((T + 1, M), dtype=np.int32)\n",
    "    for t in range(1, T + 1):\n",
    "        for k in range(M):\n",
    "            V_candidates = V[t-1] + lda * np.any(Theta[k] != Theta, axis=1) + d2(Theta[k], y[t-1])\n",
    "            best_idx = np.argmin(V_candidates)\n",
    "            V[t][k] = V_candidates[best_idx]\n",
    "            s[t][k] = best_idx\n",
    "\n",
    "    # Backtracking\n",
    "    states = np.zeros(T, dtype=np.int32)\n",
    "    state = np.argmin(V[T])\n",
    "    for t in reversed(range(T)):\n",
    "        states[t] = state\n",
    "        state = s[t + 1][state]\n",
    "    \n",
    "    chpnts = np.arange(len(y) - 1)[states[:-1] != states[1:]]\n",
    "    return chpnts, Theta[states], V, s\n",
    "\n",
    "penalty = 0.1\n",
    "chpnts, signal_mean, V, s = apart(signal, Theta, penalty)\n",
    "print(V)\n",
    "print(s)\n",
    "print(chpnts)"
   ]
  },
  {
   "cell_type": "code",
   "execution_count": null,
   "id": "022d06f6",
   "metadata": {},
   "outputs": [
    {
     "name": "stdout",
     "output_type": "stream",
     "text": [
      "[[0.  0.  0. ]\n",
      " [0.  1.  4. ]\n",
      " [0.  1.1 4.1]\n",
      " [0.  1.1 4.1]\n",
      " [0.  1.1 4.1]\n",
      " [0.  1.1 4.1]\n",
      " [1.  0.1 1.1]\n",
      " [1.2 0.1 1.2]\n",
      " [0.2 1.1 4.2]\n",
      " [1.2 0.3 1.3]\n",
      " [1.4 0.3 1.4]]\n",
      "[[-1 -1 -1]\n",
      " [-1 -1 -1]\n",
      " [-1  0  0]\n",
      " [-1  1  1]\n",
      " [-1  2  2]\n",
      " [-1  3  3]\n",
      " [-1  4  4]\n",
      " [ 5  4  5]\n",
      " [ 6  4  6]\n",
      " [ 6  7  7]\n",
      " [ 8  7  8]]\n",
      "[-1 -1 -1 -1 -1  4  4  6  7  7]\n",
      "[4 6 7]\n"
     ]
    }
   ],
   "source": [
    "def apart_2(y, Theta, lda):\n",
    "    T = y.shape[0]\n",
    "    M = Theta.shape[0]\n",
    "\n",
    "    V = np.zeros((T + 1, M))                        # best cost upto time t and end with level k\n",
    "    tau = -1 * np.ones((T + 1, M), dtype=np.int32)  # best last time t to change if end with level k\n",
    "    last_change = -1 * np.ones((T), dtype=np.int32) # best last change location upto time t\n",
    "\n",
    "    best_prev = 0\n",
    "    for t in range(1, T + 1):\n",
    "        for k in range(M):\n",
    "            if best_prev + lda < V[t - 1][k]:\n",
    "                V[t][k]   = best_prev + lda\n",
    "                tau[t][k] = t - 2\n",
    "            else:\n",
    "                V[t][k]   = V[t - 1][k]\n",
    "                tau[t][k] = tau[t - 1][k]\n",
    "            \n",
    "            V[t][k] = V[t][k] + d2(Theta[k], y[t-1])\n",
    "\n",
    "        best_idx = np.argmin(V[t])\n",
    "        best_prev = V[t][best_idx]\n",
    "        last_change[t-1] = tau[t][best_idx]\n",
    "    \n",
    "    # trace back\n",
    "    s = last_change[-1]\n",
    "    chpnts = np.array([], dtype=int)\n",
    "    while s > 0:\n",
    "        chpnts = np.append(s, chpnts)\n",
    "        s = last_change[s]\n",
    "    \n",
    "    # get mean\n",
    "    ext_chpnts = np.append(np.append(-1, chpnts), len(signal)-1)\n",
    "    signal_mean = np.zeros_like(signal)\n",
    "    for i in range(len(ext_chpnts) - 1):\n",
    "        start = ext_chpnts[i]\n",
    "        end = ext_chpnts[i + 1]\n",
    "        signal_mean[start + 1: end + 1] = Theta[np.argmin(V[end + 1])]\n",
    "\n",
    "    return V, tau, last_change, chpnts, signal_mean\n",
    "\n",
    "penalty = 0.1\n",
    "V, tau, last_change, chpnts = apart_2(signal, Theta, penalty)\n",
    "print(V)\n",
    "print(tau)\n",
    "print(last_change)\n",
    "print(chpnts)"
   ]
  },
  {
   "cell_type": "code",
   "execution_count": 24,
   "id": "d9ee5b04",
   "metadata": {},
   "outputs": [],
   "source": [
    "ext_chpnts = np.append(np.append(-1, chpnts), len(signal)-1)\n",
    "mean = np.zeros_like(signal)\n",
    "for i in range(len(ext_chpnts) - 1):\n",
    "    start = ext_chpnts[i]\n",
    "    end = ext_chpnts[i + 1]\n",
    "    mean[start + 1: end + 1] = Theta[np.argmin(V[end + 1])]"
   ]
  },
  {
   "cell_type": "code",
   "execution_count": 25,
   "id": "7bc4d242",
   "metadata": {},
   "outputs": [
    {
     "data": {
      "text/plain": [
       "array([[1],\n",
       "       [1],\n",
       "       [1],\n",
       "       [1],\n",
       "       [1],\n",
       "       [2],\n",
       "       [2],\n",
       "       [1],\n",
       "       [2],\n",
       "       [2]])"
      ]
     },
     "execution_count": 25,
     "metadata": {},
     "output_type": "execute_result"
    }
   ],
   "source": [
    "mean"
   ]
  }
 ],
 "metadata": {
  "kernelspec": {
   "display_name": "Python 3",
   "language": "python",
   "name": "python3"
  },
  "language_info": {
   "codemirror_mode": {
    "name": "ipython",
    "version": 3
   },
   "file_extension": ".py",
   "mimetype": "text/x-python",
   "name": "python",
   "nbconvert_exporter": "python",
   "pygments_lexer": "ipython3",
   "version": "3.11.9"
  }
 },
 "nbformat": 4,
 "nbformat_minor": 5
}
