{
 "cells": [
  {
   "cell_type": "code",
   "execution_count": 1,
   "id": "868bf530",
   "metadata": {},
   "outputs": [],
   "source": [
    "import numpy as np\n",
    "from numba import njit, prange\n",
    "import matplotlib.pyplot as plt\n",
    "\n",
    "pi = np.pi\n",
    "np.random.seed(123)"
   ]
  },
  {
   "cell_type": "code",
   "execution_count": 2,
   "id": "5d1a75ad",
   "metadata": {},
   "outputs": [],
   "source": [
    "signal = np.concatenate([np.random.normal(m, 0, 2) for m in [1, 3]])\n",
    "signal = signal.reshape((-1, 1))"
   ]
  },
  {
   "cell_type": "code",
   "execution_count": 3,
   "id": "08ae2a6d",
   "metadata": {},
   "outputs": [],
   "source": [
    "Theta = np.linspace(1, 4, 3, endpoint = False).reshape(-1, 1)"
   ]
  },
  {
   "cell_type": "code",
   "execution_count": 4,
   "id": "a059110a",
   "metadata": {},
   "outputs": [],
   "source": [
    "def apart(signal, Theta, penalty):\n",
    "    n_samples = signal.shape[0]\n",
    "    n_states = Theta.shape[0]\n",
    "    costs = np.empty((n_samples, n_states), dtype=np.float64)\n",
    "    for k_state in range(n_states):\n",
    "        for k_sample in range(n_samples):\n",
    "            diff = np.abs(signal[k_sample] - Theta[k_state])\n",
    "            costs[k_sample, k_state] = np.sum(np.fmin(diff, 2 * np.pi - diff))\n",
    "\n",
    "    n_samples, n_states = costs.shape\n",
    "    soc_array = np.empty((n_samples + 1, n_states), dtype=np.float64)\n",
    "    state_array = np.empty((n_samples + 1, n_states), dtype=np.int32)\n",
    "    soc_array[0] = 0\n",
    "    state_array[0] = -1\n",
    "\n",
    "    # Forward loop\n",
    "    for t in range(1, n_samples + 1):\n",
    "        for k_state in range(n_states):\n",
    "            best_state = k_state\n",
    "            best_soc = soc_array[t - 1][best_state]\n",
    "            for k in range(n_states):\n",
    "                if k != k_state:\n",
    "                    soc = soc_array[t - 1][k]\n",
    "                    if soc + penalty < best_soc:\n",
    "                        best_state = k\n",
    "                        best_soc = soc + penalty\n",
    "\n",
    "            soc_array[t, k_state] = best_soc + costs[t - 1, k_state]\n",
    "            state_array[t, k_state] = best_state\n",
    "\n",
    "    # Backtracking\n",
    "    end = n_samples\n",
    "    state = np.argmin(soc_array[end])\n",
    "    states = np.empty(n_samples, dtype=np.int32)\n",
    "    while (state > -1) and (end > 0):\n",
    "        states[end - 1] = state\n",
    "        state = state_array[end, state]\n",
    "        end -= 1\n",
    "    return states, soc_array, state_array"
   ]
  },
  {
   "cell_type": "code",
   "execution_count": 5,
   "id": "78c75c5c",
   "metadata": {},
   "outputs": [
    {
     "name": "stdout",
     "output_type": "stream",
     "text": [
      "[0 0 2 2]\n",
      "[[0.  0.  0. ]\n",
      " [0.  1.  2. ]\n",
      " [0.  1.1 2.1]\n",
      " [2.  1.1 0.1]\n",
      " [2.2 1.2 0.1]]\n",
      "[[-1 -1 -1]\n",
      " [ 0  1  2]\n",
      " [ 0  0  0]\n",
      " [ 0  0  0]\n",
      " [ 2  2  2]]\n"
     ]
    }
   ],
   "source": [
    "penalty = 0.1\n",
    "states, soc_array, state_array = apart(signal, Theta, penalty)\n",
    "print(states)\n",
    "print(soc_array)\n",
    "print(state_array)"
   ]
  },
  {
   "cell_type": "code",
   "execution_count": 6,
   "id": "dcf1725c",
   "metadata": {},
   "outputs": [
    {
     "name": "stdout",
     "output_type": "stream",
     "text": [
      "[0 0 2 2]\n",
      "[[0.  0.  0. ]\n",
      " [0.  1.  2. ]\n",
      " [0.  1.1 2.1]\n",
      " [2.  1.1 0.1]\n",
      " [2.2 1.2 0.1]]\n",
      "[[        11          0 -698863171]\n",
      " [         0          1          2]\n",
      " [         0          0          0]\n",
      " [         0          0          0]\n",
      " [         2          2          2]]\n"
     ]
    }
   ],
   "source": [
    "# Version 1\n",
    "def geo_d(x: np.ndarray, y: np.ndarray) -> float:\n",
    "    diff = np.abs(x - y)\n",
    "    return np.sum(np.fmin(diff, 2 * np.pi - diff))\n",
    "\n",
    "def apart(y, Theta, penalty):\n",
    "    T, D = y.shape\n",
    "    M, _ = Theta.shape\n",
    "\n",
    "    V = np.zeros((T + 1, M))\n",
    "    s = np.empty((T + 1, M), dtype=np.int32)\n",
    "\n",
    "    for t in range(1, T + 1):\n",
    "        for k in range(M):\n",
    "            V_candidates = np.zeros(M)\n",
    "            for j in range(M):\n",
    "                V_candidates[j] = V[t - 1][j] + penalty * (not np.array_equal(Theta[j], Theta[k])) + geo_d(y[t - 1], Theta[k])\n",
    "            V[t][k] = min(V_candidates)\n",
    "            s[t][k] = np.argmin(V_candidates)\n",
    "\n",
    "    # Backtracking\n",
    "    end = T\n",
    "    state = np.argmin(V[end])\n",
    "    states = np.empty(T, dtype=np.int32)\n",
    "    while (state > -1) and (end > 0):\n",
    "        states[end - 1] = state\n",
    "        state = s[end, state]\n",
    "        end -= 1\n",
    "    return states, V, s\n",
    "\n",
    "\n",
    "\n",
    "penalty = 0.1\n",
    "states, soc_array, state_array = apart(signal, Theta, penalty)\n",
    "print(states)\n",
    "print(soc_array)\n",
    "print(state_array)"
   ]
  },
  {
   "cell_type": "code",
   "execution_count": 7,
   "id": "6a5e5fa7",
   "metadata": {},
   "outputs": [
    {
     "name": "stdout",
     "output_type": "stream",
     "text": [
      "[0 0 2 2]\n",
      "[[0.  0.  0. ]\n",
      " [0.  1.  4. ]\n",
      " [0.  1.1 4.1]\n",
      " [4.  1.1 0.1]\n",
      " [4.2 1.2 0.1]]\n",
      "[[-1 -1 -1]\n",
      " [ 0  1  2]\n",
      " [ 0  0  0]\n",
      " [ 0  0  0]\n",
      " [ 2  2  2]]\n"
     ]
    }
   ],
   "source": [
    "# Version 2\n",
    "def geo_d(theta, psi):\n",
    "    diff = np.abs(psi - theta)\n",
    "    return np.sum(np.square(np.minimum(diff, 2*pi - diff)))\n",
    "\n",
    "def apart(y, Theta, lda):\n",
    "    T, D = y.shape\n",
    "    M, _ = Theta.shape\n",
    "\n",
    "    V = np.zeros((T + 1, M))\n",
    "    s = -1*np.ones((T + 1, M), dtype=np.int32)\n",
    "    for t in range(1, T + 1):\n",
    "        for k in range(M):\n",
    "            V_candidates = V[t-1] + lda * np.any(Theta[k] != Theta, axis=1) + geo_d(Theta[k], y[t-1])\n",
    "            best_idx = np.argmin(V_candidates)\n",
    "            V[t][k] = V_candidates[best_idx]\n",
    "            s[t][k] = best_idx\n",
    "\n",
    "    # Backtracking\n",
    "    states = np.empty(T, dtype=np.int32)\n",
    "    state = np.argmin(V[T])\n",
    "    for t in reversed(range(T)):\n",
    "        states[t] = state\n",
    "        state = state_array[t + 1, state]\n",
    "    \n",
    "    return states, V, s\n",
    "\n",
    "\n",
    "\n",
    "penalty = 0.1\n",
    "states, soc_array, state_array = apart(signal, Theta, penalty)\n",
    "print(states)\n",
    "print(soc_array)\n",
    "print(state_array)"
   ]
  },
  {
   "cell_type": "code",
   "execution_count": 8,
   "id": "2384c7a4",
   "metadata": {},
   "outputs": [
    {
     "name": "stdout",
     "output_type": "stream",
     "text": [
      "[0 0 2 2]\n",
      "[[0.  0.  0. ]\n",
      " [0.  1.  4. ]\n",
      " [0.  1.1 4.1]\n",
      " [4.  1.1 0.1]\n",
      " [4.2 1.2 0.1]]\n",
      "[[-1 -1 -1]\n",
      " [ 0  1  2]\n",
      " [ 0  0  0]\n",
      " [ 0  0  0]\n",
      " [ 2  2  2]]\n"
     ]
    }
   ],
   "source": [
    "# verison 3\n",
    "\n",
    "@njit\n",
    "def geo_d(theta, psi):\n",
    "    diff = np.abs(psi - theta)\n",
    "    return np.sum(np.square(np.minimum(diff, 2*pi - diff)))\n",
    "\n",
    "@njit(parallel=True)\n",
    "def apart(y, Theta, lda):\n",
    "    T = y.shape[0]\n",
    "    M = Theta.shape[0]\n",
    "\n",
    "    V = np.zeros((T + 1, M))\n",
    "    s = -1 * np.ones((T + 1, M), dtype=np.int32)\n",
    "\n",
    "    for t in range(1, T + 1):\n",
    "        for k in prange(M):\n",
    "            V_candidates = np.zeros(M)\n",
    "            for m in prange(M):\n",
    "                if np.array_equal(Theta[m], Theta[k]):\n",
    "                    V_candidates[m] = V[t - 1][m] + geo_d(Theta[k], y[t - 1])\n",
    "                else:\n",
    "                    V_candidates[m] = V[t - 1][m] + geo_d(Theta[k], y[t - 1]) + lda\n",
    "\n",
    "            best_idx = np.argmin(V_candidates)\n",
    "            V[t][k] = V_candidates[best_idx]\n",
    "            s[t][k] = best_idx\n",
    "\n",
    "    # Backtracking\n",
    "    states = np.empty(T, dtype=np.int32)\n",
    "    state = np.argmin(V[T])\n",
    "    for t in range(T - 1, -1, -1):\n",
    "        states[t] = state\n",
    "        state = s[t + 1, state]\n",
    "\n",
    "    return states, V, s\n",
    "\n",
    "\n",
    "\n",
    "penalty = 0.1\n",
    "states, soc_array, state_array = apart(signal, Theta, penalty)\n",
    "print(states)\n",
    "print(soc_array)\n",
    "print(state_array)"
   ]
  },
  {
   "cell_type": "code",
   "execution_count": 9,
   "id": "20f98365",
   "metadata": {},
   "outputs": [
    {
     "data": {
      "text/plain": [
       "array([0, 2, 2])"
      ]
     },
     "execution_count": 9,
     "metadata": {},
     "output_type": "execute_result"
    }
   ],
   "source": [
    "states[1:]"
   ]
  },
  {
   "cell_type": "code",
   "execution_count": 10,
   "id": "1ee2d2c2",
   "metadata": {},
   "outputs": [
    {
     "data": {
      "text/plain": [
       "array([False,  True, False])"
      ]
     },
     "execution_count": 10,
     "metadata": {},
     "output_type": "execute_result"
    }
   ],
   "source": [
    "states[:-1] != states[1:]"
   ]
  },
  {
   "cell_type": "code",
   "execution_count": 11,
   "id": "7667cfa9",
   "metadata": {},
   "outputs": [
    {
     "name": "stdout",
     "output_type": "stream",
     "text": [
      "[1]\n",
      "[[1.]\n",
      " [1.]\n",
      " [3.]\n",
      " [3.]]\n"
     ]
    }
   ],
   "source": [
    "# Version 2\n",
    "def d2(theta, psi):\n",
    "    diff = np.abs(psi - theta)\n",
    "    return np.sum(np.square(np.minimum(diff, 2*pi - diff)))\n",
    "\n",
    "def apart(y, Theta, lda):\n",
    "    T = y.shape[0]\n",
    "    M = Theta.shape[0]\n",
    "\n",
    "    V = np.zeros((T + 1, M))\n",
    "    s = -1 * np.ones((T + 1, M), dtype=np.int32)\n",
    "    for t in range(1, T + 1):\n",
    "        for k in range(M):\n",
    "            V_candidates = V[t-1] + lda * np.any(Theta[k] != Theta, axis=1) + d2(Theta[k], y[t-1])\n",
    "            best_idx = np.argmin(V_candidates)\n",
    "            V[t][k] = V_candidates[best_idx]\n",
    "            s[t][k] = best_idx\n",
    "\n",
    "    # Backtracking\n",
    "    states = np.zeros(T, dtype=np.int32)\n",
    "    state = np.argmin(V[T])\n",
    "    for t in reversed(range(T)):\n",
    "        states[t] = state\n",
    "        state = s[t + 1][state]\n",
    "    \n",
    "    chpnts = np.arange(len(y) - 1)[states[:-1] != states[1:]]\n",
    "    return chpnts, Theta[states]\n",
    "\n",
    "\n",
    "\n",
    "penalty = 0.1\n",
    "chpnts, signal_mean = apart(signal, Theta, penalty)\n",
    "print(chpnts)\n",
    "print(signal_mean)"
   ]
  }
 ],
 "metadata": {
  "kernelspec": {
   "display_name": "Python 3",
   "language": "python",
   "name": "python3"
  },
  "language_info": {
   "codemirror_mode": {
    "name": "ipython",
    "version": 3
   },
   "file_extension": ".py",
   "mimetype": "text/x-python",
   "name": "python",
   "nbconvert_exporter": "python",
   "pygments_lexer": "ipython3",
   "version": "3.11.9"
  }
 },
 "nbformat": 4,
 "nbformat_minor": 5
}
