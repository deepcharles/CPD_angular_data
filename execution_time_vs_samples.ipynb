{
 "cells": [
  {
   "cell_type": "code",
   "execution_count": 1,
   "id": "aff6f1d1",
   "metadata": {},
   "outputs": [],
   "source": [
    "import numpy as np\n",
    "from utils import *\n",
    "from pathlib import Path\n",
    "import time"
   ]
  },
  {
   "cell_type": "code",
   "execution_count": 2,
   "id": "5b04f688",
   "metadata": {},
   "outputs": [],
   "source": [
    "# Hyperparamters\n",
    "d = 2       # Dimensionality\n",
    "s = 2       # Number of discrete value for each dimension\n",
    "trials = 4  # Number of trials per signal length\n",
    "n = 19      # 2^{n} is the max length of trial signal\n",
    "\n",
    "# Discrete means set\n",
    "angles = np.linspace(0, 2 * np.pi, s, endpoint=False)\n",
    "grids = np.meshgrid(*([angles] * d), indexing='ij')\n",
    "Theta = np.stack(grids, axis=-1).reshape(-1, d)"
   ]
  },
  {
   "cell_type": "code",
   "execution_count": 3,
   "id": "7e3c0750",
   "metadata": {},
   "outputs": [],
   "source": [
    "# setting up recorded csv\n",
    "output_path = Path(f\"benchmark_results/time_vs_samples_{d}D_{s}MeansGrid.csv\")\n",
    "\n",
    "# Write CSV header once\n",
    "if not output_path.exists():\n",
    "    with open(output_path, 'w') as f:\n",
    "        f.write(\"signal_length,mean_exe_time_sec,std_exe_time_sec\\n\")\n",
    "\n",
    "for i in range(1, n+1):\n",
    "    signal_length = 2 ** i\n",
    "    exe_times = np.empty(trials, dtype=np.float64)\n",
    "    for j in range(trials):\n",
    "        # Generate random signal\n",
    "        signal = np.column_stack([\n",
    "            np.random.uniform(0, 2 * np.pi, signal_length)\n",
    "            for _ in range(d)\n",
    "        ])\n",
    "\n",
    "        # Time the opart function\n",
    "        start = time.perf_counter()\n",
    "        chpnts, signal_mean = opart(signal, Theta, i)\n",
    "        end = time.perf_counter()\n",
    "\n",
    "        exe_times[j] = end - start\n",
    "\n",
    "    # Compute stats\n",
    "    mean_time = np.mean(exe_times)\n",
    "    std_time  = np.std(exe_times)\n",
    "\n",
    "    # Record to CSV\n",
    "    with open(output_path, 'a') as f:\n",
    "        f.write(f\"{signal_length},{mean_time:.6f},{std_time:.6f}\\n\")"
   ]
  }
 ],
 "metadata": {
  "kernelspec": {
   "display_name": "Python 3",
   "language": "python",
   "name": "python3"
  },
  "language_info": {
   "codemirror_mode": {
    "name": "ipython",
    "version": 3
   },
   "file_extension": ".py",
   "mimetype": "text/x-python",
   "name": "python",
   "nbconvert_exporter": "python",
   "pygments_lexer": "ipython3",
   "version": "3.11.9"
  }
 },
 "nbformat": 4,
 "nbformat_minor": 5
}
