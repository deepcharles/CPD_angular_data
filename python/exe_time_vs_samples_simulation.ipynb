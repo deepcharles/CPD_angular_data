{
 "cells": [
  {
   "cell_type": "code",
   "execution_count": 1,
   "id": "b23fe3c2",
   "metadata": {},
   "outputs": [],
   "source": [
    "import numpy as np\n",
    "from utils import pelt, apart\n",
    "from pathlib import Path\n",
    "import time"
   ]
  },
  {
   "cell_type": "code",
   "execution_count": 2,
   "id": "f40e47f8",
   "metadata": {},
   "outputs": [],
   "source": [
    "mean_vec = [2, 4, 1, 5]\n",
    "\n",
    "def const_changes(N):\n",
    "    return np.repeat(mean_vec, N // len(mean_vec))\n",
    "\n",
    "def linear_changes(N):\n",
    "    return np.tile(np.repeat(mean_vec, 10), N // (len(mean_vec)*10))\n",
    "\n",
    "sim_fun_dict = {\n",
    "    'const_changes': const_changes,\n",
    "    'linear_changes': linear_changes\n",
    "}\n",
    "\n",
    "method_dict = {\n",
    "    'pelt': pelt,\n",
    "    'apart': apart\n",
    "}"
   ]
  },
  {
   "cell_type": "code",
   "execution_count": 3,
   "id": "9ddf250d",
   "metadata": {},
   "outputs": [],
   "source": [
    "# Hyperparamters\n",
    "d = 1       # Dimensionality\n",
    "s = 10      # Number of discrete value for each dimension\n",
    "trials = 4  # Number of trials per signal length\n",
    "n = 18      # 2^{n} is the max length of trial signal\n",
    "lda = 10    # penalty\n",
    "\n",
    "# Discrete means set\n",
    "angles = np.linspace(0, 2 * np.pi, s, endpoint=False)\n",
    "grids = np.meshgrid(*([angles] * d), indexing='ij')\n",
    "Theta = np.stack(grids, axis=-1).reshape(-1, d)"
   ]
  },
  {
   "cell_type": "code",
   "execution_count": null,
   "id": "52def115",
   "metadata": {},
   "outputs": [],
   "source": [
    "# setting up recorded csv\n",
    "for method in ['pelt', 'apart']:\n",
    "    for signal_type in ['const_changes', 'linear_changes']:\n",
    "        output_path = Path(f\"benchmark_results/{method}_time_vs_samples_{signal_type}_{d}D_{s}MeansGrid_penalty{lda}.csv\")\n",
    "\n",
    "        # Write CSV header once\n",
    "        if not output_path.exists():\n",
    "            with open(output_path, 'w') as f:\n",
    "                f.write(\"signal_length,mean_exe_time_sec,std_exe_time_sec\\n\")\n",
    "\n",
    "        for i in range(6, n+1):\n",
    "            signal_length = 2 ** i\n",
    "            exe_times = np.empty(trials, dtype=np.float64)\n",
    "            for j in range(trials):\n",
    "                # Generate random signal\n",
    "                signal = np.column_stack([\n",
    "                    np.clip(np.random.normal(loc=sim_fun_dict[signal_type](signal_length), scale=0.4), 0, 2 * np.pi)\n",
    "                    for _ in range(d)\n",
    "                ])\n",
    "\n",
    "                # Time the function\n",
    "                start = time.perf_counter()\n",
    "                chpnts, signal_mean = method_dict[method](signal, Theta, lda)\n",
    "                end = time.perf_counter()\n",
    "\n",
    "                exe_times[j] = end - start\n",
    "\n",
    "            # Compute stats\n",
    "            mean_time = np.mean(exe_times)\n",
    "            std_time  = np.std(exe_times)\n",
    "\n",
    "            # Record to CSV\n",
    "            with open(output_path, 'a') as f:\n",
    "                f.write(f\"{signal_length},{mean_time:.6f},{std_time:.6f}\\n\")"
   ]
  }
 ],
 "metadata": {
  "kernelspec": {
   "display_name": "Python 3",
   "language": "python",
   "name": "python3"
  },
  "language_info": {
   "codemirror_mode": {
    "name": "ipython",
    "version": 3
   },
   "file_extension": ".py",
   "mimetype": "text/x-python",
   "name": "python",
   "nbconvert_exporter": "python",
   "pygments_lexer": "ipython3",
   "version": "3.11.9"
  }
 },
 "nbformat": 4,
 "nbformat_minor": 5
}
