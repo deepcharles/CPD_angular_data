{
 "cells": [
  {
   "cell_type": "code",
   "execution_count": 1,
   "id": "7bd00579",
   "metadata": {},
   "outputs": [],
   "source": [
    "import numpy as np\n",
    "\n",
    "pi = np.pi"
   ]
  },
  {
   "cell_type": "code",
   "execution_count": 2,
   "id": "a1df4c6a",
   "metadata": {},
   "outputs": [],
   "source": [
    "def d2(theta, psi):\n",
    "    diff = np.abs(psi - theta)\n",
    "    return np.sum(np.square(np.minimum(diff, 2*pi - diff)))"
   ]
  },
  {
   "cell_type": "code",
   "execution_count": 3,
   "id": "73e28eed",
   "metadata": {},
   "outputs": [
    {
     "name": "stdout",
     "output_type": "stream",
     "text": [
      "[[0.   0.  ]\n",
      " [0.   4.  ]\n",
      " [0.   4.1 ]\n",
      " [0.   4.1 ]\n",
      " [2.25 0.35]\n",
      " [4.45 0.35]\n",
      " [6.7  0.6 ]]\n",
      "[-1 -1 -1  2  2  2]\n"
     ]
    }
   ],
   "source": [
    "def apart(y, Theta, lda):\n",
    "    T = y.shape[0]\n",
    "    M = Theta.shape[0]\n",
    "\n",
    "    V = np.zeros((T + 1, M))                        # best cost upto time t and end with level k\n",
    "    tau = -1 * np.ones((T + 1, M), dtype=np.int32)  # best last time t to change if end with level k\n",
    "    pathVec = -1 * np.ones((T), dtype=np.int32)     # best last change location upto time t\n",
    "\n",
    "    best_prev = 0\n",
    "    for t in range(1, T + 1):\n",
    "        best_k = 0\n",
    "        for k in range(M):\n",
    "            V[t][k]   = V[t - 1][k]\n",
    "            tau[t][k] = tau[t - 1][k]\n",
    "            if best_prev + lda < V[t - 1][k]:\n",
    "                V[t][k]   = best_prev + lda\n",
    "                tau[t][k] = t - 2\n",
    "\n",
    "            V[t][k] = V[t][k] + d2(Theta[k], y[t-1])\n",
    "            \n",
    "            if(V[t][k] < V[t][best_k]):\n",
    "                best_k = k\n",
    "\n",
    "        best_prev = V[t][best_k]\n",
    "        pathVec[t-1] = tau[t][best_k]\n",
    "\n",
    "    return V, pathVec\n",
    "\n",
    "signal = np.array([2, 2, 2, 0.5, 0, 2*pi-0.5]).reshape((-1, 1))\n",
    "Theta = np.array([2, 0]).reshape((-1, 1))\n",
    "penalty = 0.1\n",
    "\n",
    "V, pathVec = apart(signal, Theta, penalty)\n",
    "print(V)\n",
    "print(pathVec)"
   ]
  },
  {
   "cell_type": "code",
   "execution_count": 11,
   "id": "5e4c1084",
   "metadata": {},
   "outputs": [
    {
     "name": "stdout",
     "output_type": "stream",
     "text": [
      "[[ 0.8660254]\n",
      " [ 0.       ]\n",
      " [-0.8660254]]\n",
      "[7.40148683e-17]\n",
      "[[-0.5]\n",
      " [ 1. ]\n",
      " [-0.5]]\n",
      "[-7.40148683e-17]\n"
     ]
    },
    {
     "data": {
      "text/plain": [
       "array([2.35619449])"
      ]
     },
     "execution_count": 11,
     "metadata": {},
     "output_type": "execute_result"
    }
   ],
   "source": [
    "def circular_mean(segment):\n",
    "    sin_sum = np.mean(np.sin(segment), axis=0)\n",
    "    print(np.sin(segment))\n",
    "    print(sin_sum)\n",
    "    cos_sum = np.mean(np.cos(segment), axis=0)\n",
    "    print(np.cos(segment))\n",
    "    print(cos_sum)\n",
    "    mean_angles = np.arctan2(sin_sum, cos_sum)\n",
    "    return mean_angles\n",
    "\n",
    "circular_mean(np.array([2*pi/3, 0, 4*pi/3]).reshape((-1, 1)))"
   ]
  }
 ],
 "metadata": {
  "kernelspec": {
   "display_name": "Python 3",
   "language": "python",
   "name": "python3"
  },
  "language_info": {
   "codemirror_mode": {
    "name": "ipython",
    "version": 3
   },
   "file_extension": ".py",
   "mimetype": "text/x-python",
   "name": "python",
   "nbconvert_exporter": "python",
   "pygments_lexer": "ipython3",
   "version": "3.11.9"
  }
 },
 "nbformat": 4,
 "nbformat_minor": 5
}
