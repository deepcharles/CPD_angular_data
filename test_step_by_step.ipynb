{
 "cells": [
  {
   "cell_type": "code",
   "execution_count": 1,
   "id": "39e9b06c",
   "metadata": {},
   "outputs": [],
   "source": [
    "import numpy as np\n",
    "import pandas as pd\n",
    "from utils import *\n",
    "\n",
    "np.set_printoptions(precision=3, suppress=True)\n",
    "pd.set_option('display.float_format', '{:.3f}'.format)\n",
    "\n",
    "pi = np.pi"
   ]
  },
  {
   "cell_type": "code",
   "execution_count": 2,
   "id": "95229348",
   "metadata": {},
   "outputs": [
    {
     "name": "stdout",
     "output_type": "stream",
     "text": [
      "[[0.2   6.083]\n",
      " [6.183 0.1  ]\n",
      " [3.2   2.8  ]\n",
      " [2.9   3.1  ]]\n"
     ]
    }
   ],
   "source": [
    "signal_1 = np.array([0.2,      2*pi-0.1, 3.2, 2.9])\n",
    "signal_2 = np.array([2*pi-0.2, 0.1,      2.8, 3.1])\n",
    "signal   = np.column_stack((signal_1, signal_2))\n",
    "print(signal)"
   ]
  },
  {
   "cell_type": "code",
   "execution_count": 3,
   "id": "2da7f90d",
   "metadata": {},
   "outputs": [
    {
     "name": "stdout",
     "output_type": "stream",
     "text": [
      "[[0 0]\n",
      " [0 1]\n",
      " [0 3]\n",
      " [1 0]\n",
      " [1 1]\n",
      " [1 3]\n",
      " [3 0]\n",
      " [3 1]\n",
      " [3 3]]\n"
     ]
    }
   ],
   "source": [
    "Theta = np.array(np.meshgrid(np.array([0, 1, 3]),\n",
    "                             np.array([0, 1, 3]),\n",
    "                             indexing='ij')).reshape(2, -1).T\n",
    "print(Theta)"
   ]
  },
  {
   "cell_type": "code",
   "execution_count": 4,
   "id": "9bf9dfe3",
   "metadata": {},
   "outputs": [
    {
     "data": {
      "text/html": [
       "<div>\n",
       "<style scoped>\n",
       "    .dataframe tbody tr th:only-of-type {\n",
       "        vertical-align: middle;\n",
       "    }\n",
       "\n",
       "    .dataframe tbody tr th {\n",
       "        vertical-align: top;\n",
       "    }\n",
       "\n",
       "    .dataframe thead th {\n",
       "        text-align: right;\n",
       "    }\n",
       "</style>\n",
       "<table border=\"1\" class=\"dataframe\">\n",
       "  <thead>\n",
       "    <tr style=\"text-align: right;\">\n",
       "      <th></th>\n",
       "      <th>[0 0]</th>\n",
       "      <th>[0 1]</th>\n",
       "      <th>[0 3]</th>\n",
       "      <th>[1 0]</th>\n",
       "      <th>[1 1]</th>\n",
       "      <th>[1 3]</th>\n",
       "      <th>[3 0]</th>\n",
       "      <th>[3 1]</th>\n",
       "      <th>[3 3]</th>\n",
       "    </tr>\n",
       "  </thead>\n",
       "  <tbody>\n",
       "    <tr>\n",
       "      <th>[0.2   6.083]</th>\n",
       "      <td>0.080</td>\n",
       "      <td>1.480</td>\n",
       "      <td>9.546</td>\n",
       "      <td>0.680</td>\n",
       "      <td>2.080</td>\n",
       "      <td>10.146</td>\n",
       "      <td>7.880</td>\n",
       "      <td>9.280</td>\n",
       "      <td>17.346</td>\n",
       "    </tr>\n",
       "    <tr>\n",
       "      <th>[6.183 0.1  ]</th>\n",
       "      <td>0.020</td>\n",
       "      <td>0.820</td>\n",
       "      <td>8.420</td>\n",
       "      <td>1.220</td>\n",
       "      <td>2.020</td>\n",
       "      <td>9.620</td>\n",
       "      <td>9.620</td>\n",
       "      <td>10.420</td>\n",
       "      <td>18.020</td>\n",
       "    </tr>\n",
       "    <tr>\n",
       "      <th>[3.2 2.8]</th>\n",
       "      <td>17.346</td>\n",
       "      <td>12.746</td>\n",
       "      <td>9.546</td>\n",
       "      <td>12.680</td>\n",
       "      <td>8.080</td>\n",
       "      <td>4.880</td>\n",
       "      <td>7.880</td>\n",
       "      <td>3.280</td>\n",
       "      <td>0.080</td>\n",
       "    </tr>\n",
       "    <tr>\n",
       "      <th>[2.9 3.1]</th>\n",
       "      <td>18.020</td>\n",
       "      <td>12.820</td>\n",
       "      <td>8.420</td>\n",
       "      <td>13.220</td>\n",
       "      <td>8.020</td>\n",
       "      <td>3.620</td>\n",
       "      <td>9.620</td>\n",
       "      <td>4.420</td>\n",
       "      <td>0.020</td>\n",
       "    </tr>\n",
       "  </tbody>\n",
       "</table>\n",
       "</div>"
      ],
      "text/plain": [
       "               [0 0]  [0 1]  [0 3]  [1 0]  [1 1]  [1 3]  [3 0]  [3 1]  [3 3]\n",
       "[0.2   6.083]  0.080  1.480  9.546  0.680  2.080 10.146  7.880  9.280 17.346\n",
       "[6.183 0.1  ]  0.020  0.820  8.420  1.220  2.020  9.620  9.620 10.420 18.020\n",
       "[3.2 2.8]     17.346 12.746  9.546 12.680  8.080  4.880  7.880  3.280  0.080\n",
       "[2.9 3.1]     18.020 12.820  8.420 13.220  8.020  3.620  9.620  4.420  0.020"
      ]
     },
     "execution_count": 4,
     "metadata": {},
     "output_type": "execute_result"
    }
   ],
   "source": [
    "costs = np.empty((len(signal), len(Theta)))\n",
    "for i, theta in enumerate(Theta):\n",
    "    costs[:, i] = np.sum(np.square(np.minimum(np.abs(signal - theta), 2*pi - np.abs(signal - theta))), axis=1)\n",
    "costs_df = pd.DataFrame(costs, index=[f'{signal[i]}' for i in range(len(signal))])\n",
    "costs_df.columns = [f'{Theta[i]}' for i in range(len(Theta))]\n",
    "costs_df"
   ]
  },
  {
   "cell_type": "code",
   "execution_count": 5,
   "id": "237743d7",
   "metadata": {},
   "outputs": [
    {
     "name": "stdout",
     "output_type": "stream",
     "text": [
      "[[ 0.     0.     0.     0.     0.     0.     0.     0.     0.   ]\n",
      " [ 0.08   1.48   9.546  0.68   2.08  10.146  7.88   9.28  17.346]\n",
      " [ 0.1    2.3   17.966  1.9    4.1   19.766 17.5   19.7   35.366]\n",
      " [17.446 15.046 27.512 14.58  12.18  24.646 25.38  22.98  35.446]\n",
      " [35.466 27.866 35.932 27.8   20.2   28.266 35.    27.4   35.466]]\n"
     ]
    }
   ],
   "source": [
    "cumsum_costs = get_cumsum(signal, Theta)\n",
    "print(cumsum_costs)"
   ]
  },
  {
   "cell_type": "code",
   "execution_count": 6,
   "id": "53abe859",
   "metadata": {},
   "outputs": [
    {
     "data": {
      "text/plain": [
       "array([0.1])"
      ]
     },
     "execution_count": 6,
     "metadata": {},
     "output_type": "execute_result"
    }
   ],
   "source": [
    "L([0], 2, cumsum_costs)"
   ]
  },
  {
   "cell_type": "code",
   "execution_count": 7,
   "id": "bfa5fc7b",
   "metadata": {},
   "outputs": [
    {
     "data": {
      "text/plain": [
       "array([10.1])"
      ]
     },
     "execution_count": 7,
     "metadata": {},
     "output_type": "execute_result"
    }
   ],
   "source": [
    "L([1], 3, cumsum_costs)"
   ]
  },
  {
   "cell_type": "code",
   "execution_count": 8,
   "id": "54881647",
   "metadata": {},
   "outputs": [
    {
     "data": {
      "text/plain": [
       "array([0.1])"
      ]
     },
     "execution_count": 8,
     "metadata": {},
     "output_type": "execute_result"
    }
   ],
   "source": [
    "L([2], 4, cumsum_costs)"
   ]
  },
  {
   "cell_type": "code",
   "execution_count": 9,
   "id": "27762888",
   "metadata": {},
   "outputs": [
    {
     "name": "stdout",
     "output_type": "stream",
     "text": [
      "Time step t = 1\n",
      "  Indices:     [0]\n",
      "  L values:    [0.08]\n",
      "  V values:    [0.08]\n",
      "  C[1]:        0.08\n",
      "  tau_star[1]: 0\n",
      "----------------------------------------\n",
      "Time step t = 2\n",
      "  Indices:     [0 1]\n",
      "  L values:    [0.1  0.02]\n",
      "  V values:    [0.1 1.1]\n",
      "  C[2]:        0.1\n",
      "  tau_star[2]: 0\n",
      "----------------------------------------\n",
      "Time step t = 3\n",
      "  Indices:     [0 1 2]\n",
      "  L values:    [12.18 10.1   0.08]\n",
      "  V values:    [12.18 11.18  1.18]\n",
      "  C[3]:        1.2\n",
      "  tau_star[3]: 2\n",
      "----------------------------------------\n",
      "Time step t = 4\n",
      "  Indices:     [0 1 2 3]\n",
      "  L values:    [20.2  18.12  0.1   0.02]\n",
      "  V values:    [20.2 19.2  1.2  2.2]\n",
      "  C[4]:        1.2\n",
      "  tau_star[4]: 2\n",
      "----------------------------------------\n"
     ]
    }
   ],
   "source": [
    "lda = 1\n",
    "cumsum_costs = get_cumsum(signal, Theta)  # get cumsum_costs matrix\n",
    "\n",
    "# Get tau_star (list of best last changepoints)\n",
    "C = np.zeros(len(signal) + 1)  # best cost for each segment from 0 to t\n",
    "C[0] = -lda\n",
    "tau_star = np.zeros(len(signal) + 1, dtype=int)  # initiate tau_star\n",
    "\n",
    "for t in range(1, len(signal) + 1):\n",
    "    indices = np.arange(t)\n",
    "    L_values = L(indices, t, cumsum_costs)\n",
    "    V = C[:t] + lda + L_values\n",
    "    C[t] = np.min(V)\n",
    "    tau_star[t] = np.argmin(V)\n",
    "\n",
    "    print(f\"Time step t = {t}\")\n",
    "    print(f\"  Indices:     {indices}\")\n",
    "    print(f\"  L values:    {L_values}\")\n",
    "    print(f\"  V values:    {V}\")\n",
    "    print(f\"  C[{t}]:        {C[t]:.2}\")\n",
    "    print(f\"  tau_star[{t}]: {tau_star[t]}\")\n",
    "    print(\"-\" * 40)"
   ]
  }
 ],
 "metadata": {
  "kernelspec": {
   "display_name": "Python 3",
   "language": "python",
   "name": "python3"
  },
  "language_info": {
   "codemirror_mode": {
    "name": "ipython",
    "version": 3
   },
   "file_extension": ".py",
   "mimetype": "text/x-python",
   "name": "python",
   "nbconvert_exporter": "python",
   "pygments_lexer": "ipython3",
   "version": "3.11.9"
  }
 },
 "nbformat": 4,
 "nbformat_minor": 5
}
