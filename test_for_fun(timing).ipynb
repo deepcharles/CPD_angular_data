{
 "cells": [
  {
   "cell_type": "code",
   "execution_count": 1,
   "id": "b74c1eb6",
   "metadata": {},
   "outputs": [],
   "source": [
    "from utils import *\n",
    "import numpy as np\n",
    "import time\n",
    "from numba import njit, prange"
   ]
  },
  {
   "cell_type": "code",
   "execution_count": 2,
   "id": "c544ab2a",
   "metadata": {},
   "outputs": [],
   "source": [
    "d = 1                       # Dimensionality\n",
    "s = 3                       # Number of discrete value for each dimension\n",
    "signal_length = 50000       # signal length\n",
    "lda = np.log(signal_length) # penalty"
   ]
  },
  {
   "cell_type": "code",
   "execution_count": 3,
   "id": "3cb341a0",
   "metadata": {},
   "outputs": [],
   "source": [
    "signal = np.column_stack([np.random.uniform(0, 2 * np.pi, signal_length) for _ in range(d)])"
   ]
  },
  {
   "cell_type": "code",
   "execution_count": 4,
   "id": "d3e94cc5",
   "metadata": {},
   "outputs": [],
   "source": [
    "# Discrete means set\n",
    "angles = np.linspace(0, 2 * np.pi, s, endpoint=False)\n",
    "grids = np.meshgrid(*([angles] * d), indexing='ij')\n",
    "Theta = np.stack(grids, axis=-1).reshape(-1, d)"
   ]
  },
  {
   "cell_type": "code",
   "execution_count": 5,
   "id": "0d2da2bb",
   "metadata": {},
   "outputs": [],
   "source": [
    "# @njit(parallel=True)\n",
    "# def min_axis1(arr):\n",
    "#     nrows = arr.shape[0]\n",
    "#     result = np.empty(nrows, dtype=arr.dtype)\n",
    "#     for i in prange(nrows):\n",
    "#         row_min = arr[i, 0]\n",
    "#         for j in range(1, arr.shape[1]):\n",
    "#             if arr[i, j] < row_min:\n",
    "#                 row_min = arr[i, j]\n",
    "#         result[i] = row_min\n",
    "#     return result"
   ]
  },
  {
   "cell_type": "code",
   "execution_count": 6,
   "id": "56a11034",
   "metadata": {},
   "outputs": [],
   "source": [
    "# @njit(parallel=True)\n",
    "# def compute_diff(cumsum_costs, start, end):\n",
    "#     n = start.shape[0]\n",
    "#     n_features = cumsum_costs.shape[1]\n",
    "#     result = np.empty((n, n_features), dtype=cumsum_costs.dtype)\n",
    "#     end_val = cumsum_costs[end, :]\n",
    "#     for i in prange(n):\n",
    "#         for j in range(n_features):\n",
    "#             result[i, j] = end_val[j] - cumsum_costs[start[i], j]\n",
    "#     return result"
   ]
  },
  {
   "cell_type": "code",
   "execution_count": 7,
   "id": "9262a1eb",
   "metadata": {},
   "outputs": [],
   "source": [
    "# def L(start, end, cumsum_costs):\n",
    "#     times = {}\n",
    "\n",
    "#     t0 = time.perf_counter()\n",
    "#     diff = compute_diff(cumsum_costs, start, end)\n",
    "#     t1 = time.perf_counter()\n",
    "#     times['subtraction'] = t1 - t0\n",
    "\n",
    "#     t2 = time.perf_counter()\n",
    "#     # diff = np.ascontiguousarray(diff, dtype=np.float32)\n",
    "#     min_vals = min_axis1(diff)\n",
    "#     t3 = time.perf_counter()\n",
    "#     times['min'] = t3 - t2\n",
    "\n",
    "#     return min_vals, times"
   ]
  },
  {
   "cell_type": "code",
   "execution_count": 8,
   "id": "430452fb",
   "metadata": {},
   "outputs": [],
   "source": [
    "@njit(parallel=True)\n",
    "def L(start, end, cumsum_costs):\n",
    "    n_thetas = cumsum_costs.shape[1]\n",
    "    L_vals = np.empty(start.shape[0], dtype=cumsum_costs.dtype)\n",
    "    for i in prange(start.shape[0]):\n",
    "        row_min = cumsum_costs[end, 0] - cumsum_costs[start[i], 0]\n",
    "        for j in range(1, n_thetas):\n",
    "            val = cumsum_costs[end, j] - cumsum_costs[start[i], j]\n",
    "            if val < row_min:\n",
    "                row_min = val\n",
    "        L_vals[i] = row_min\n",
    "    return L_vals"
   ]
  },
  {
   "cell_type": "code",
   "execution_count": 9,
   "id": "bd378a28",
   "metadata": {},
   "outputs": [],
   "source": [
    "# def L(start, end, cumsum_costs):\n",
    "#     t0 = time.perf_counter()\n",
    "#     min_vals = compute_min_diff(cumsum_costs, start, end)\n",
    "#     t1 = time.perf_counter()\n",
    "#     times = t1 - t0\n",
    "#     return min_vals, times"
   ]
  },
  {
   "cell_type": "code",
   "execution_count": 10,
   "id": "c64dbd09",
   "metadata": {},
   "outputs": [],
   "source": [
    "# def L(start, end, cumsum_costs):\n",
    "#     return compute_min_diff(cumsum_costs, start, end)"
   ]
  },
  {
   "cell_type": "code",
   "execution_count": 11,
   "id": "850da451",
   "metadata": {},
   "outputs": [],
   "source": [
    "# def L(start, end, cumsum_costs):\n",
    "#     times = {}\n",
    "\n",
    "#     t0 = time.perf_counter()\n",
    "#     diff = cumsum_costs[end] - cumsum_costs[start]\n",
    "#     t1 = time.perf_counter()\n",
    "#     times['subtraction'] = t1 - t0\n",
    "\n",
    "#     t2 = time.perf_counter()\n",
    "#     diff = np.ascontiguousarray(diff, dtype=np.float32)\n",
    "#     min_vals = min_axis1(diff)\n",
    "#     t3 = time.perf_counter()\n",
    "#     times['min'] = t3 - t2\n",
    "\n",
    "#     return min_vals, times"
   ]
  },
  {
   "cell_type": "code",
   "execution_count": 12,
   "id": "05b9dfad",
   "metadata": {},
   "outputs": [],
   "source": [
    "# def L(start, end, cumsum_costs):\n",
    "#     times = {}\n",
    "\n",
    "#     t0 = time.perf_counter()\n",
    "#     diff = cumsum_costs[end] - cumsum_costs[start]\n",
    "#     t1 = time.perf_counter()\n",
    "#     times['subtraction'] = t1 - t0\n",
    "\n",
    "#     t2 = time.perf_counter()\n",
    "#     min_vals = np.min(diff, axis=1)\n",
    "#     t3 = time.perf_counter()\n",
    "#     times['min'] = t3 - t2\n",
    "\n",
    "#     return min_vals, times"
   ]
  },
  {
   "cell_type": "code",
   "execution_count": 13,
   "id": "dd8960ad",
   "metadata": {},
   "outputs": [],
   "source": [
    "# @njit(parallel=True)\n",
    "# def compute_V(C_sub, lda, t, cumsum_costs):\n",
    "#     n = np.arange(t).shape[0]\n",
    "#     n_features = cumsum_costs.shape[1]\n",
    "#     L_vals = np.empty(n, dtype=cumsum_costs.dtype)\n",
    "#     end_val = cumsum_costs[t, :]\n",
    "#     for i in prange(n):\n",
    "#         row_min = end_val[0] - cumsum_costs[np.arange(t)[i], 0]\n",
    "#         for j in range(1, n_features):\n",
    "#             val = end_val[j] - cumsum_costs[np.arange(t)[i], j]\n",
    "#             if val < row_min:\n",
    "#                 row_min = val\n",
    "#         L_vals[i] = row_min\n",
    "\n",
    "#     V = np.empty(len(C_sub))\n",
    "#     for i in prange(len(C_sub)):\n",
    "#         V[i] = C_sub[i] + lda + L_vals[i]\n",
    "#     return V"
   ]
  },
  {
   "cell_type": "code",
   "execution_count": 14,
   "id": "9ec9a722",
   "metadata": {},
   "outputs": [],
   "source": [
    "@njit(parallel=True)\n",
    "def compute_V(C_sub, lda, L_vals):\n",
    "    V = np.empty(len(C_sub))\n",
    "    for i in prange(len(C_sub)):\n",
    "        V[i] = C_sub[i] + lda + L_vals[i]\n",
    "    return V"
   ]
  },
  {
   "cell_type": "code",
   "execution_count": 15,
   "id": "08061229",
   "metadata": {},
   "outputs": [],
   "source": [
    "def opart(signal, Theta, lda):\n",
    "    # Step 1: Get cumsum_costs\n",
    "    start = time.perf_counter()\n",
    "    cumsum_costs = get_cumsum(signal, Theta)\n",
    "    end = time.perf_counter()\n",
    "    print(f\"[Step 1] get_cumsum: {end - start:.9f} seconds\")\n",
    "\n",
    "    # Step 2: Initialize and compute C and tau_star (Dynamic Programming)\n",
    "    C = np.zeros(len(signal) + 1)\n",
    "    C[0] = -lda\n",
    "    tau_star = np.zeros(len(signal) + 1, dtype=int)\n",
    "\n",
    "    dp_start = time.perf_counter()\n",
    "    for t in range(1, len(signal) + 1):\n",
    "        loop_start = time.perf_counter()\n",
    "        \n",
    "        # l_start = time.perf_counter()\n",
    "        # L_vals, times = L(np.arange(t), t, cumsum_costs)\n",
    "        # l_end = time.perf_counter()\n",
    "        \n",
    "        v_start = time.perf_counter()\n",
    "        V = compute_V(C[:t], lda, L(np.arange(t), t, cumsum_costs))\n",
    "        v_end = time.perf_counter()\n",
    "        \n",
    "        min_start = time.perf_counter()\n",
    "        tau_star[t] = np.argmin(V)\n",
    "        C[t] = V[tau_star[t]]\n",
    "        min_end = time.perf_counter()\n",
    "\n",
    "        loop_end = time.perf_counter()\n",
    "\n",
    "        if t == len(signal):\n",
    "            print(f\"[Step 2 | t={t}] Total: {loop_end - loop_start:.9f} s\")\n",
    "            # print(f\"    L total: {l_end - l_start:.9f} s ({times:.9f} s)\")\n",
    "            print(f\"    V calc: {v_end - v_start:.9f} s\")\n",
    "            print(f\"    min/argmin: {min_end - min_start:.9f} s\")\n",
    "\n",
    "    dp_end = time.perf_counter()\n",
    "    print(f\"[Step 2] Total dynamic programming loop: {dp_end - dp_start:.9f} seconds\")\n",
    "\n",
    "    # Step 3: Trace back changepoints\n",
    "    start = time.perf_counter()\n",
    "    chpnts = trace_back(tau_star[1:])\n",
    "    end = time.perf_counter()\n",
    "    print(f\"[Step 3] trace_back: {end - start:.9f} seconds\")\n",
    "\n",
    "    # Step 4: Compute signal means\n",
    "    start = time.perf_counter()\n",
    "    signal_mean = get_signal_mean(Theta, cumsum_costs, chpnts)\n",
    "    end = time.perf_counter()\n",
    "    print(f\"[Step 4] get_signal_mean: {end - start:.9f} seconds\")"
   ]
  },
  {
   "cell_type": "code",
   "execution_count": 16,
   "id": "d39871a6",
   "metadata": {},
   "outputs": [
    {
     "name": "stdout",
     "output_type": "stream",
     "text": [
      "[Step 1] get_cumsum: 0.003198200 seconds\n",
      "[Step 2 | t=50000] Total: 0.000164500 s\n",
      "    V calc: 0.000144200 s\n",
      "    min/argmin: 0.000019800 s\n",
      "[Step 2] Total dynamic programming loop: 6.089110300 seconds\n",
      "[Step 3] trace_back: 0.013099700 seconds\n",
      "[Step 4] get_signal_mean: 0.031860900 seconds\n"
     ]
    }
   ],
   "source": [
    "opart(signal, Theta, lda)"
   ]
  },
  {
   "cell_type": "code",
   "execution_count": 17,
   "id": "0d1c95f4",
   "metadata": {},
   "outputs": [],
   "source": [
    "# use numpy\n",
    "\n",
    "# [Step 1] get_cumsum: 0.002798000 seconds\n",
    "# [Step 2 | t=50000] Total: 0.002385200 s\n",
    "#     L total: 0.002269000 s (subtraction: 0.000880500 s, min: 0.001356300 s)\n",
    "#     V calc: 0.000085300 s\n",
    "#     min/argmin: 0.000029900 s\n",
    "# [Step 2] Total dynamic programming loop: 60.937032100 seconds\n",
    "# [Step 3] trace_back: 0.010774600 seconds\n",
    "# [Step 4] get_signal_mean: 0.022541000 seconds"
   ]
  },
  {
   "cell_type": "code",
   "execution_count": 18,
   "id": "a4714b83",
   "metadata": {},
   "outputs": [],
   "source": [
    "# use numba\n",
    "\n",
    "# [Step 1] get_cumsum: 0.002440000 seconds\n",
    "# [Step 2 | t=50000] Total: 0.001770200 s\n",
    "#     L total: 0.001592200 s (subtraction: 0.001259500 s, min: 0.000296800 s)\n",
    "#     V calc: 0.000128100 s\n",
    "#     min/argmin: 0.000048000 s\n",
    "# [Step 2] Total dynamic programming loop: 48.926414600 seconds\n",
    "# [Step 3] trace_back: 0.013825300 seconds\n",
    "# [Step 4] get_signal_mean: 0.032466900 seconds"
   ]
  },
  {
   "cell_type": "code",
   "execution_count": 19,
   "id": "c85bff71",
   "metadata": {},
   "outputs": [],
   "source": [
    "# use numba for both subtraction and min in L\n",
    "\n",
    "# [Step 1] get_cumsum: 0.002755500 seconds\n",
    "# [Step 2 | t=50000] Total: 0.000528600 s\n",
    "#     L total: 0.000399100 s (subtraction: 0.000048800 s, min: 0.000263100 s)\n",
    "#     V calc: 0.000094600 s\n",
    "#     min/argmin: 0.000034100 s\n",
    "# [Step 2] Total dynamic programming loop: 15.375155100 seconds\n",
    "# [Step 3] trace_back: 0.013910700 seconds\n",
    "# [Step 4] get_signal_mean: 0.032910500 seconds"
   ]
  },
  {
   "cell_type": "code",
   "execution_count": 20,
   "id": "57d49179",
   "metadata": {},
   "outputs": [],
   "source": [
    "# use numba for both subtraction and min in L and V_cal\n",
    "# [Step 1] get_cumsum: 0.003164400 seconds\n",
    "# [Step 2 | t=50000] Total: 0.000407600 s\n",
    "#     L total: 0.000326400 s (subtraction: 0.000045800 s, min: 0.000247500 s)\n",
    "#     V calc: 0.000045900 s\n",
    "#     min/argmin: 0.000034700 s\n",
    "# [Step 2] Total dynamic programming loop: 14.413672100 seconds\n",
    "# [Step 3] trace_back: 0.013507100 seconds\n",
    "# [Step 4] get_signal_mean: 0.031638500 seconds"
   ]
  },
  {
   "cell_type": "code",
   "execution_count": 21,
   "id": "c9d1e223",
   "metadata": {},
   "outputs": [],
   "source": [
    "# use numba for both subtraction and min in L and V_cal and not # diff = np.ascontiguousarray(diff, dtype=np.float32)\n",
    "# [Step 1] get_cumsum: 0.002512900 seconds\n",
    "# [Step 2 | t=50000] Total: 0.000144500 s\n",
    "#     L total: 0.000096400 s (subtraction: 0.000028100 s, min: 0.000027000 s)\n",
    "#     V calc: 0.000013900 s\n",
    "#     min/argmin: 0.000033600 s\n",
    "# [Step 2] Total dynamic programming loop: 7.322234600 seconds\n",
    "# [Step 3] trace_back: 0.013409200 seconds\n",
    "# [Step 4] get_signal_mean: 0.032012500 seconds"
   ]
  },
  {
   "cell_type": "code",
   "execution_count": 22,
   "id": "a1d88e88",
   "metadata": {},
   "outputs": [],
   "source": [
    "# using numba combine L\n",
    "# [Step 1] get_cumsum: 0.002739100 seconds\n",
    "# [Step 2 | t=50000] Total: 0.000150200 s\n",
    "#     L total: 0.000104000 s (subtraction: 0.000027400 s, min: 0.000027400 s)\n",
    "#     V calc: 0.000012900 s\n",
    "#     min/argmin: 0.000032700 s\n",
    "# [Step 2] Total dynamic programming loop: 6.323910100 seconds\n",
    "# [Step 3] trace_back: 0.014082400 seconds\n",
    "# [Step 4] get_signal_mean: 0.031577500 seconds"
   ]
  },
  {
   "cell_type": "code",
   "execution_count": 23,
   "id": "b6571cbf",
   "metadata": {},
   "outputs": [],
   "source": [
    "# combine min and argmin\n",
    "# [Step 1] get_cumsum: 0.005495400 seconds\n",
    "# [Step 2 | t=50000] Total: 0.000147100 s\n",
    "#     L total: 0.000105300 s (combined: 0.000000200 s)\n",
    "#     V calc: 0.000021400 s\n",
    "#     min/argmin: 0.000019500 s\n",
    "# [Step 2] Total dynamic programming loop: 5.406089200 seconds\n",
    "# [Step 3] trace_back: 0.013645700 seconds\n",
    "# [Step 4] get_signal_mean: 0.031484500 seconds"
   ]
  }
 ],
 "metadata": {
  "kernelspec": {
   "display_name": "Python 3",
   "language": "python",
   "name": "python3"
  },
  "language_info": {
   "codemirror_mode": {
    "name": "ipython",
    "version": 3
   },
   "file_extension": ".py",
   "mimetype": "text/x-python",
   "name": "python",
   "nbconvert_exporter": "python",
   "pygments_lexer": "ipython3",
   "version": "3.11.9"
  }
 },
 "nbformat": 4,
 "nbformat_minor": 5
}
