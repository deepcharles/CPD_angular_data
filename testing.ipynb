{
 "cells": [
  {
   "cell_type": "code",
   "execution_count": 1,
   "metadata": {},
   "outputs": [],
   "source": [
    "import numpy as np\n",
    "from numba import njit\n",
    "import matplotlib.pyplot as plt\n",
    "\n",
    "pi = np.pi\n",
    "np.random.seed(123)"
   ]
  },
  {
   "cell_type": "code",
   "execution_count": 2,
   "metadata": {},
   "outputs": [
    {
     "data": {
      "image/png": "[encoded data removed]",
      "text/plain": [
       "<Figure size 600x200 with 1 Axes>"
      ]
     },
     "metadata": {},
     "output_type": "display_data"
    }
   ],
   "source": [
    "# create 1D angular signal\n",
    "signal = np.concatenate([np.random.normal(m, 0.1, 2) for m in [1, 3]])\n",
    "signal = signal.reshape((-1, 1))\n",
    "\n",
    "# shift the signal into [0, 2pi)\n",
    "signal[signal < 0]    += 2*pi\n",
    "signal[signal > 2*pi] -= 2*pi\n",
    "\n",
    "# plot signal\n",
    "plt.figure(figsize=(6, 2))\n",
    "plt.scatter(np.arange(len(signal)), signal, label='signal', color='black')\n",
    "plt.legend(loc='best')\n",
    "plt.xlabel(\"time step\")\n",
    "plt.ylabel(\"angle (radian)\")\n",
    "plt.show()"
   ]
  },
  {
   "cell_type": "code",
   "execution_count": 3,
   "metadata": {},
   "outputs": [],
   "source": [
    "# discrete means set\n",
    "centroids = np.linspace(1, 4, 3, endpoint = False).reshape(-1, 1)"
   ]
  },
  {
   "cell_type": "markdown",
   "metadata": {},
   "source": [
    "## Define util functions"
   ]
  },
  {
   "cell_type": "code",
   "execution_count": 4,
   "metadata": {},
   "outputs": [],
   "source": [
    "def get_state_sequence(costs, penalty):\n",
    "    n_samples, n_states = costs.shape\n",
    "    soc_array = np.empty((n_samples + 1, n_states), dtype=np.float64)\n",
    "    state_array = np.empty((n_samples + 1, n_states), dtype=np.int32)\n",
    "    soc_array[0] = 0\n",
    "    state_array[0] = -1\n",
    "\n",
    "    # Forward loop\n",
    "    for t in range(1, n_samples + 1):\n",
    "        for k_state in range(n_states):\n",
    "            best_state = k_state\n",
    "            best_soc = soc_array[t - 1][best_state]\n",
    "            for k in range(n_states):\n",
    "                if k != k_state:\n",
    "                    soc = soc_array[t - 1][k]\n",
    "                    if soc + penalty < best_soc:\n",
    "                        best_state = k\n",
    "                        best_soc = soc + penalty\n",
    "\n",
    "            soc_array[t, k_state] = best_soc + costs[t - 1, k_state]\n",
    "            state_array[t, k_state] = best_state\n",
    "\n",
    "    # Backtracking\n",
    "    end = n_samples\n",
    "    state = np.argmin(soc_array[end])\n",
    "    states = np.empty(n_samples, dtype=np.int32)\n",
    "    while (state > -1) and (end > 0):\n",
    "        states[end - 1] = state\n",
    "        state = state_array[end, state]\n",
    "        end -= 1\n",
    "    return states, soc_array, state_array"
   ]
  },
  {
   "cell_type": "code",
   "execution_count": 5,
   "metadata": {},
   "outputs": [
    {
     "name": "stderr",
     "output_type": "stream",
     "text": [
      "C:\\Users\\nguye\\AppData\\Local\\Packages\\PythonSoftwareFoundation.Python.3.11_qbz5n2kfra8p0\\LocalCache\\local-packages\\Python311\\site-packages\\numba\\core\\typed_passes.py:336: NumbaPerformanceWarning: \u001b[1m\n",
      "The keyword argument 'parallel=True' was specified but no transformation for parallel execution was possible.\n",
      "\n",
      "To find out why, try turning on parallel diagnostics, see https://numba.readthedocs.io/en/stable/user/parallel.html#diagnostics for help.\n",
      "\u001b[1m\n",
      "File \"..\\..\\..\\AppData\\Local\\Temp\\ipykernel_15040\\1696595820.py\", line 6:\u001b[0m\n",
      "\u001b[1m<source missing, REPL/exec in use?>\u001b[0m\n",
      "\u001b[0m\n",
      "  warnings.warn(errors.NumbaPerformanceWarning(msg,\n"
     ]
    }
   ],
   "source": [
    "@njit\n",
    "def dist_func(x: np.ndarray, y: np.ndarray) -> float:\n",
    "    diff = np.abs(x - y)\n",
    "    return np.sum(np.fmin(diff, 2 * np.pi - diff))\n",
    "\n",
    "@njit(parallel=True)\n",
    "def compute_all_costs(signal, means):\n",
    "    n_samples = signal.shape[0]\n",
    "    n_states = means.shape[0]\n",
    "    costs = np.empty((n_samples, n_states), dtype=np.float64)\n",
    "    for k_state in range(n_states):\n",
    "        for k_sample in range(n_samples):\n",
    "            costs[k_sample, k_state] = dist_func(signal[k_sample], means[k_state])\n",
    "    return costs\n",
    "\n",
    "costs = compute_all_costs(signal, centroids)"
   ]
  },
  {
   "cell_type": "code",
   "execution_count": 6,
   "metadata": {},
   "outputs": [
    {
     "data": {
      "text/plain": [
       "array([[0.10856306, 1.10856306, 2.10856306],\n",
       "       [0.09973454, 0.90026546, 1.90026546],\n",
       "       [2.02829785, 1.02829785, 0.02829785],\n",
       "       [1.84937053, 0.84937053, 0.15062947]])"
      ]
     },
     "execution_count": 6,
     "metadata": {},
     "output_type": "execute_result"
    }
   ],
   "source": [
    "costs"
   ]
  },
  {
   "cell_type": "code",
   "execution_count": 7,
   "metadata": {},
   "outputs": [],
   "source": [
    "# 2. Perform discrete change-point detection.\n",
    "penalty = 0.1\n",
    "# states = get_state_sequence(costs, penalty)\n",
    "states, soc_array, state_array = get_state_sequence(costs, penalty)\n",
    "approx = centroids[states]"
   ]
  },
  {
   "cell_type": "code",
   "execution_count": 8,
   "metadata": {},
   "outputs": [
    {
     "data": {
      "text/plain": [
       "array([0, 0, 2, 2])"
      ]
     },
     "execution_count": 8,
     "metadata": {},
     "output_type": "execute_result"
    }
   ],
   "source": [
    "states"
   ]
  },
  {
   "cell_type": "code",
   "execution_count": 9,
   "metadata": {},
   "outputs": [
    {
     "data": {
      "text/plain": [
       "array([[0.        , 0.        , 0.        ],\n",
       "       [0.10856306, 1.10856306, 2.10856306],\n",
       "       [0.2082976 , 1.10882852, 2.10882852],\n",
       "       [2.23659545, 1.33659545, 0.33659545],\n",
       "       [2.28596598, 1.28596598, 0.48722493]])"
      ]
     },
     "execution_count": 9,
     "metadata": {},
     "output_type": "execute_result"
    }
   ],
   "source": [
    "soc_array"
   ]
  },
  {
   "cell_type": "code",
   "execution_count": 10,
   "metadata": {},
   "outputs": [
    {
     "data": {
      "text/plain": [
       "array([[-1, -1, -1],\n",
       "       [ 0,  1,  2],\n",
       "       [ 0,  0,  0],\n",
       "       [ 0,  0,  0],\n",
       "       [ 2,  2,  2]])"
      ]
     },
     "execution_count": 10,
     "metadata": {},
     "output_type": "execute_result"
    }
   ],
   "source": [
    "state_array"
   ]
  }
 ],
 "metadata": {
  "kernelspec": {
   "display_name": "Python 3",
   "language": "python",
   "name": "python3"
  },
  "language_info": {
   "codemirror_mode": {
    "name": "ipython",
    "version": 3
   },
   "file_extension": ".py",
   "mimetype": "text/x-python",
   "name": "python",
   "nbconvert_exporter": "python",
   "pygments_lexer": "ipython3",
   "version": "3.11.9"
  }
 },
 "nbformat": 4,
 "nbformat_minor": 2
}
