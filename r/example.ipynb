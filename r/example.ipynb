{
 "cells": [
  {
   "cell_type": "code",
   "execution_count": 1,
   "id": "587e1073",
   "metadata": {
    "vscode": {
     "languageId": "r"
    }
   },
   "outputs": [],
   "source": [
    "library(Rcpp)"
   ]
  },
  {
   "cell_type": "code",
   "execution_count": 2,
   "id": "0ed8c20d",
   "metadata": {
    "vscode": {
     "languageId": "r"
    }
   },
   "outputs": [],
   "source": [
    "sourceCpp(\"apart_interface.cpp\")"
   ]
  },
  {
   "cell_type": "code",
   "execution_count": 3,
   "id": "e8afaaff",
   "metadata": {
    "vscode": {
     "languageId": "r"
    }
   },
   "outputs": [
    {
     "name": "stdout",
     "output_type": "stream",
     "text": [
      "[1] 2 6\n"
     ]
    }
   ],
   "source": [
    "signal <- matrix(c(1.0, 0.1, 1.2, 6.2, 0.8, 6.1, 3.0, 2.0, 3.2, 2.1,\n",
    "                   2.8, 2.0, 3.1, 1.9, 1.0, 3.1, 1.1, 3.0, 0.9, 3.2),\n",
    "                 ncol = 2, byrow = TRUE)\n",
    "\n",
    "penalty <- 0.1\n",
    "num_states <- 5\n",
    "\n",
    "change_points <- apart_rcpp(signal, penalty, num_states)\n",
    "print(change_points)"
   ]
  }
 ],
 "metadata": {
  "kernelspec": {
   "display_name": "R",
   "language": "R",
   "name": "ir"
  },
  "language_info": {
   "codemirror_mode": "r",
   "file_extension": ".r",
   "mimetype": "text/x-r-source",
   "name": "R",
   "pygments_lexer": "r",
   "version": "4.5.1"
  }
 },
 "nbformat": 4,
 "nbformat_minor": 5
}
