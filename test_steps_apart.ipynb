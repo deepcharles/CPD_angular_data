{
 "cells": [
  {
   "cell_type": "code",
   "execution_count": 1,
   "id": "9c61044b",
   "metadata": {},
   "outputs": [],
   "source": [
    "import numpy as np\n",
    "pi = np.pi"
   ]
  },
  {
   "cell_type": "code",
   "execution_count": 2,
   "id": "d0c4b7e4",
   "metadata": {},
   "outputs": [],
   "source": [
    "# # get cumsum matrix of Y given Theta\n",
    "# def get_cumsum(Y, Theta):\n",
    "#     costs = np.empty((len(Y), len(Theta)))\n",
    "#     for i, theta in enumerate(Theta):\n",
    "#         costs[:, i] = np.sum(np.square(np.minimum(np.abs(Y - theta), 2*pi - np.abs(Y - theta))), axis=1)\n",
    "#     return np.cumsum(np.vstack([np.zeros((1, costs.shape[1])), costs]), axis=0)"
   ]
  },
  {
   "cell_type": "code",
   "execution_count": 3,
   "id": "adc7b0dd",
   "metadata": {},
   "outputs": [],
   "source": [
    "# Y = np.array([[0.1], [0.1], [1.1], [1.1]])\n",
    "# Y = np.array([[0.1], [0.1], [2.1], [2.1]])\n",
    "# Y = np.array([[1.1], [1.1], [0.1], [0.1]])\n",
    "Y = np.array([[0.1], [1.1], [0.1], [0.1]])\n",
    "Theta = np.array([[0.0], [1.0], [2.0]])"
   ]
  },
  {
   "cell_type": "code",
   "execution_count": 4,
   "id": "61cad6f7",
   "metadata": {},
   "outputs": [],
   "source": [
    "# T = len(Y)\n",
    "# M = len(Theta)"
   ]
  },
  {
   "cell_type": "code",
   "execution_count": 5,
   "id": "24dd8f77",
   "metadata": {},
   "outputs": [],
   "source": [
    "# C_star = get_cumsum(Y, Theta)"
   ]
  },
  {
   "cell_type": "code",
   "execution_count": 6,
   "id": "002f57c3",
   "metadata": {},
   "outputs": [],
   "source": [
    "# C_star"
   ]
  },
  {
   "cell_type": "code",
   "execution_count": 7,
   "id": "710322c8",
   "metadata": {},
   "outputs": [],
   "source": [
    "# def L_point(t, s):\n",
    "#     return C_star[t + 1, s] - C_star[t, s]"
   ]
  },
  {
   "cell_type": "code",
   "execution_count": 8,
   "id": "72e26924",
   "metadata": {},
   "outputs": [
    {
     "name": "stdout",
     "output_type": "stream",
     "text": [
      "[0.01]\n",
      "[0.01 0.81 3.61]\n"
     ]
    }
   ],
   "source": [
    "def geo_d(theta, psi):\n",
    "    return np.sum(np.square(np.minimum(np.abs(psi - theta), 2*pi - np.abs(psi - theta))).reshape(-1, 1), axis=1)\n",
    "\n",
    "print(geo_d(Theta[0], Y[0]))\n",
    "print(geo_d(Theta, Y[0]))"
   ]
  },
  {
   "cell_type": "code",
   "execution_count": 9,
   "id": "21b4b407",
   "metadata": {},
   "outputs": [],
   "source": [
    "# def d(theta, psi):\n",
    "#     return np.sum(np.square(np.minimum(np.abs(psi - theta), 2*pi - np.abs(psi - theta))))"
   ]
  },
  {
   "cell_type": "code",
   "execution_count": 10,
   "id": "8261bc8d",
   "metadata": {},
   "outputs": [
    {
     "data": {
      "text/plain": [
       "array([ True, False])"
      ]
     },
     "execution_count": 10,
     "metadata": {},
     "output_type": "execute_result"
    }
   ],
   "source": [
    "Theta_test = np.array([[1, 1], [1.5, 1]])\n",
    "# theta_test = np.array([1, 1])\n",
    "theta_test = np.array([1.5, 1])\n",
    "\n",
    "# xxx = 0.1*np.array([np.array_equal(theta, theta_test) for theta in Theta_test]).reshape(-1, 1)\n",
    "# xxx\n",
    "\n",
    "np.any(theta_test != Theta_test, axis=1)"
   ]
  },
  {
   "cell_type": "code",
   "execution_count": 11,
   "id": "4d5b6471",
   "metadata": {},
   "outputs": [],
   "source": [
    "def apart(Y, Theta, lda):\n",
    "    theta_star = -1.0 * np.ones(shape=(len(Y) + 1, 1))\n",
    "    V = np.zeros(len(Y) + 1)\n",
    "    for t in range(1, len(Y) + 1):\n",
    "        V_candidates = V[t-1] + geo_d(Theta, Y[t-1]) + lda * np.any(theta_star[t - 1] != Theta, axis=1)\n",
    "        best_idx = np.argmin(V_candidates)\n",
    "        theta_star[t] = Theta[best_idx]\n",
    "        V[t] = V_candidates[best_idx]\n",
    "    chpnts = np.arange(len(Y) - 1)[np.any(theta_star[2:] != theta_star[1:-1], axis=1)]\n",
    "    return chpnts, theta_star[1:]"
   ]
  },
  {
   "cell_type": "code",
   "execution_count": 12,
   "id": "ffaab496",
   "metadata": {},
   "outputs": [
    {
     "data": {
      "text/plain": [
       "(array([0, 1]),\n",
       " array([[0.],\n",
       "        [1.],\n",
       "        [0.],\n",
       "        [0.]]))"
      ]
     },
     "execution_count": 12,
     "metadata": {},
     "output_type": "execute_result"
    }
   ],
   "source": [
    "apart(Y, Theta, 0.1)"
   ]
  },
  {
   "cell_type": "code",
   "execution_count": 13,
   "id": "4abedbb5",
   "metadata": {},
   "outputs": [
    {
     "name": "stdout",
     "output_type": "stream",
     "text": [
      "t = 1\n",
      "V_candidates = [0.11 0.91 3.71]\n",
      "theta_star = [[-1.]\n",
      " [ 0.]]\n",
      "V[1] = 0.11000000000000001\n",
      "------------------------------\n",
      "t = 2\n",
      "V_candidates = [1.32 0.22 1.02]\n",
      "theta_star = [[-1.]\n",
      " [ 0.]\n",
      " [ 1.]]\n",
      "V[2] = 0.22000000000000003\n",
      "------------------------------\n",
      "t = 3\n",
      "V_candidates = [0.33 1.03 3.93]\n",
      "theta_star = [[-1.]\n",
      " [ 0.]\n",
      " [ 1.]\n",
      " [ 0.]]\n",
      "V[3] = 0.33000000000000007\n",
      "------------------------------\n",
      "t = 4\n",
      "V_candidates = [0.34 1.24 4.04]\n",
      "theta_star = [[-1.]\n",
      " [ 0.]\n",
      " [ 1.]\n",
      " [ 0.]\n",
      " [ 0.]]\n",
      "V[4] = 0.3400000000000001\n",
      "------------------------------\n"
     ]
    }
   ],
   "source": [
    "lda = 0.1\n",
    "\n",
    "theta_star = -1.0 * np.ones(shape=(len(Y) + 1, 1))\n",
    "# theta_star[0] = -1.0 * np.ones_like(Y[0])\n",
    "V = np.zeros(len(Y) + 1)\n",
    "\n",
    "for t in range(1, len(Y) + 1):\n",
    "    # V = np.zeros(len(Theta))\n",
    "    # for s, theta in enumerate(Theta):\n",
    "    #     if theta != theta_star[t - 1]:\n",
    "    #         V[s] = C[t - 1] + lda + d([theta], Y[t-1])\n",
    "    #     else:\n",
    "    #         V[s] = C[t - 1] + d([theta], Y[t-1])\n",
    "    V_candidates = V[t-1] + geo_d(Theta, Y[t-1]) + lda * np.any(theta_star[t - 1] != Theta, axis=1)\n",
    "    best_idx = np.argmin(V_candidates)\n",
    "    theta_star[t] = Theta[best_idx]\n",
    "    V[t] = V_candidates[best_idx]\n",
    "\n",
    "    # print\n",
    "    print(f't = {t}')\n",
    "    print(f'V_candidates = {V_candidates}')\n",
    "    print(f'theta_star = {theta_star[:t+1]}')\n",
    "    print(f'V[{t}] = {V[t]}')\n",
    "    print(\"------------------------------\")"
   ]
  },
  {
   "cell_type": "code",
   "execution_count": 14,
   "id": "f3b525a5",
   "metadata": {},
   "outputs": [
    {
     "name": "stdout",
     "output_type": "stream",
     "text": [
      "[0 1]\n"
     ]
    }
   ],
   "source": [
    "# print(theta_star)\n",
    "# print(theta_star[1:])\n",
    "# print(np.any(theta_star[2:] != theta_star[1:-1], axis=1))\n",
    "print(np.arange(len(Y) - 1)[np.any(theta_star[2:] != theta_star[1:-1], axis=1)])"
   ]
  },
  {
   "cell_type": "code",
   "execution_count": 15,
   "id": "c6ac6c44",
   "metadata": {},
   "outputs": [],
   "source": [
    "# t = 1\n",
    "# V = [[0.11]\n",
    "#  [0.91]\n",
    "#  [3.71]]\n",
    "# theta_star = [[-1.]\n",
    "#  [ 0.]]\n",
    "# C[1] = 0.11000000000000001\n",
    "# ------------------------------\n",
    "# t = 2\n",
    "# V = [[1.32]\n",
    "#  [0.22]\n",
    "#  [1.02]]\n",
    "# theta_star = [[-1.]\n",
    "#  [ 0.]\n",
    "#  [ 1.]]\n",
    "# C[2] = 0.22000000000000003\n",
    "# ------------------------------\n",
    "# t = 3\n",
    "# V = [[0.33]\n",
    "#  [1.03]\n",
    "#  [3.93]]\n",
    "# theta_star = [[-1.]\n",
    "#  [ 0.]\n",
    "#  [ 1.]\n",
    "#  [ 0.]]\n",
    "# C[3] = 0.33000000000000007\n",
    "# ------------------------------\n",
    "# t = 4\n",
    "# V = [[0.34]\n",
    "#  [1.24]\n",
    "#  [4.04]]\n",
    "# theta_star = [[-1.]\n",
    "#  [ 0.]\n",
    "#  [ 1.]\n",
    "#  [ 0.]\n",
    "#  [ 0.]]\n",
    "# C[4] = 0.3400000000000001\n",
    "# ------------------------------"
   ]
  },
  {
   "cell_type": "code",
   "execution_count": 16,
   "id": "bd624b06",
   "metadata": {},
   "outputs": [
    {
     "name": "stdout",
     "output_type": "stream",
     "text": [
      "t = 1\n",
      "V = [0.11 0.91 3.71]\n",
      "theta_star = [[-1.]\n",
      " [ 0.]]\n",
      "C[1] = 0.11000000000000001\n",
      "------------------------------\n",
      "t = 2\n",
      "V = [1.32 0.22 1.02]\n",
      "theta_star = [[-1.]\n",
      " [ 0.]\n",
      " [ 1.]]\n",
      "C[2] = 0.22000000000000003\n",
      "------------------------------\n",
      "t = 3\n",
      "V = [0.33 1.03 3.93]\n",
      "theta_star = [[-1.]\n",
      " [ 0.]\n",
      " [ 1.]\n",
      " [ 0.]]\n",
      "C[3] = 0.33000000000000007\n",
      "------------------------------\n",
      "t = 4\n",
      "V = [0.34 1.24 4.04]\n",
      "theta_star = [[-1.]\n",
      " [ 0.]\n",
      " [ 1.]\n",
      " [ 0.]\n",
      " [ 0.]]\n",
      "C[4] = 0.3400000000000001\n",
      "------------------------------\n"
     ]
    }
   ],
   "source": [
    "lda = 0.1\n",
    "\n",
    "theta_star = np.zeros(shape=(len(Y) + 1, 1))\n",
    "theta_star[0] = -1\n",
    "C = np.zeros(len(Y) + 1)\n",
    "C[0] = 0\n",
    "\n",
    "for t in range(1, len(Y) + 1):\n",
    "    V = np.zeros(len(Theta))\n",
    "    for s, theta in enumerate(Theta):\n",
    "        if theta != theta_star[t - 1]:\n",
    "            V[s] = C[t - 1] + lda + geo_d(theta, Y[t-1])[0]\n",
    "        else:\n",
    "            V[s] = C[t - 1] + geo_d(theta, Y[t-1])[0]\n",
    "    \n",
    "    best_index = np.argmin(V)\n",
    "    theta_star[t] = Theta[best_index]\n",
    "    C[t] = V[best_index]\n",
    "\n",
    "    # print\n",
    "    print(f't = {t}')\n",
    "    print(f'V = {V}')\n",
    "    print(f'theta_star = {theta_star[:t+1]}')\n",
    "    print(f'C[{t}] = {C[t]}')\n",
    "    print(\"------------------------------\")"
   ]
  },
  {
   "cell_type": "code",
   "execution_count": 17,
   "id": "06e07869",
   "metadata": {},
   "outputs": [],
   "source": [
    "# for t in range(1, T + 1):\n",
    "#     for (s, theta) in enumerate(Theta):\n",
    "#         same = C[t-1][s_prev]\n",
    "#         changes = [(s_prime, C[t-1][s_prime] + lda) for s_prime in range(M) if s_prime != s_prev]\n",
    "#         change = min(val for _, val in changes)\n",
    "#         # C[t][s] = min(same, change) + L_point(t, s)\n",
    "#         C[t][s] = min(same, change) + d(Y[t-1], Theta[s])\n",
    "\n",
    "#         print(f\"t={t}, s={s_prev}, same = C[{t-1}][{s_prev}] = {same}\")\n",
    "#         for s_prime, val in changes:\n",
    "#             print(f\"    candidate change from s'={s_prime}: C[{t-1}][{s_prime}] + lda = {val}\")\n",
    "#         print(f\"    change = {change}\")\n",
    "#         print(f\"    C[{t}][{s}] = min({same}, {change}) + L_point({t}, {s}) = {C[t][s]}\\n\")\n",
    "    \n",
    "#     # s_prev = np.argmin(C[t])\n",
    "#     print(f's_prev = {s_prev}')\n",
    "\n",
    "#     theta_star[t] = Theta[np.argmin(C[t])].item()\n",
    "#     print(f\"theta_star[{t}] = argmin(C[{t}]) = {theta_star[t]}\")\n",
    "#     print(\"--------------------------------------------------------------\")"
   ]
  }
 ],
 "metadata": {
  "kernelspec": {
   "display_name": "Python 3",
   "language": "python",
   "name": "python3"
  },
  "language_info": {
   "codemirror_mode": {
    "name": "ipython",
    "version": 3
   },
   "file_extension": ".py",
   "mimetype": "text/x-python",
   "name": "python",
   "nbconvert_exporter": "python",
   "pygments_lexer": "ipython3",
   "version": "3.11.9"
  }
 },
 "nbformat": 4,
 "nbformat_minor": 5
}
